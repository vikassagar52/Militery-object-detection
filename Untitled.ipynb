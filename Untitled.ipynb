{
 "cells": [
  {
   "cell_type": "code",
   "execution_count": 1,
   "id": "d481f423",
   "metadata": {},
   "outputs": [
    {
     "name": "stdout",
     "output_type": "stream",
     "text": [
      "Collecting astroid==2.4.2\n",
      "  Downloading astroid-2.4.2-py3-none-any.whl (213 kB)\n",
      "Requirement already satisfied: backcall==0.2.0 in c:\\users\\harshit\\appdata\\local\\programs\\python\\python36-32\\lib\\site-packages (from -r requirements.txt (line 2)) (0.2.0)\n",
      "Collecting certifi==2020.6.20\n",
      "  Downloading certifi-2020.6.20-py2.py3-none-any.whl (156 kB)\n",
      "Collecting chardet==3.0.4\n",
      "  Downloading chardet-3.0.4-py2.py3-none-any.whl (133 kB)\n",
      "Collecting click==7.1.2\n",
      "  Using cached click-7.1.2-py2.py3-none-any.whl (82 kB)\n",
      "Collecting colorama==0.4.3\n",
      "  Downloading colorama-0.4.3-py2.py3-none-any.whl (15 kB)\n",
      "Requirement already satisfied: decorator==4.4.2 in c:\\users\\harshit\\appdata\\local\\programs\\python\\python36-32\\lib\\site-packages (from -r requirements.txt (line 7)) (4.4.2)\n",
      "Collecting docopt==0.6.2\n",
      "  Downloading docopt-0.6.2.tar.gz (25 kB)\n",
      "Collecting Flask==1.1.2\n",
      "  Downloading Flask-1.1.2-py2.py3-none-any.whl (94 kB)\n",
      "Collecting Flask-Cors==3.0.8\n",
      "  Downloading Flask_Cors-3.0.8-py2.py3-none-any.whl (14 kB)\n",
      "Collecting Flask-MySQLdb==0.2.0\n",
      "  Downloading Flask-MySQLdb-0.2.0.tar.gz (2.1 kB)\n",
      "Requirement already satisfied: idna==2.10 in c:\\users\\harshit\\appdata\\local\\programs\\python\\python36-32\\lib\\site-packages (from -r requirements.txt (line 12)) (2.10)\n",
      "Collecting ipykernel==5.3.4\n",
      "  Downloading ipykernel-5.3.4-py3-none-any.whl (120 kB)\n"
     ]
    },
    {
     "name": "stderr",
     "output_type": "stream",
     "text": [
      "WARNING: Ignoring invalid distribution -illow (c:\\users\\harshit\\appdata\\local\\programs\\python\\python36-32\\lib\\site-packages)\n",
      "WARNING: Ignoring invalid distribution -illow (c:\\users\\harshit\\appdata\\local\\programs\\python\\python36-32\\lib\\site-packages)\n",
      "ERROR: Could not find a version that satisfies the requirement ipython==7.18.1 (from versions: 0.10, 0.10.1, 0.10.2, 0.11, 0.12, 0.12.1, 0.13, 0.13.1, 0.13.2, 1.0.0, 1.1.0, 1.2.0, 1.2.1, 2.0.0, 2.1.0, 2.2.0, 2.3.0, 2.3.1, 2.4.0, 2.4.1, 3.0.0, 3.1.0, 3.2.0, 3.2.1, 3.2.2, 3.2.3, 4.0.0b1, 4.0.0, 4.0.1, 4.0.2, 4.0.3, 4.1.0rc1, 4.1.0rc2, 4.1.0, 4.1.1, 4.1.2, 4.2.0, 4.2.1, 5.0.0b1, 5.0.0b2, 5.0.0b3, 5.0.0b4, 5.0.0rc1, 5.0.0, 5.1.0, 5.2.0, 5.2.1, 5.2.2, 5.3.0, 5.4.0, 5.4.1, 5.5.0, 5.6.0, 5.7.0, 5.8.0, 5.9.0, 5.10.0, 6.0.0rc1, 6.0.0, 6.1.0, 6.2.0, 6.2.1, 6.3.0, 6.3.1, 6.4.0, 6.5.0, 7.0.0b1, 7.0.0rc1, 7.0.0, 7.0.1, 7.1.0, 7.1.1, 7.2.0, 7.3.0, 7.4.0, 7.5.0, 7.6.0, 7.6.1, 7.7.0, 7.8.0, 7.9.0, 7.10.0, 7.10.1, 7.10.2, 7.11.0, 7.11.1, 7.12.0, 7.13.0, 7.14.0, 7.15.0, 7.16.0, 7.16.1, 7.16.2, 7.16.3)\n",
      "ERROR: No matching distribution found for ipython==7.18.1\n",
      "WARNING: Ignoring invalid distribution -illow (c:\\users\\harshit\\appdata\\local\\programs\\python\\python36-32\\lib\\site-packages)\n"
     ]
    }
   ],
   "source": [
    "!pip install -r requirements.txt"
   ]
  },
  {
   "cell_type": "code",
   "execution_count": 2,
   "id": "41d94f78",
   "metadata": {},
   "outputs": [
    {
     "name": "stdout",
     "output_type": "stream",
     "text": [
      " * Environment: production\n",
      "   WARNING: This is a development server. Do not use it in a production deployment.\n",
      "   Use a production WSGI server instead.\n",
      " * Debug mode: off\n"
     ]
    },
    {
     "name": "stderr",
     "output_type": "stream",
     "text": [
      " * Tip: There are .env or .flaskenv files present. Do \"pip install python-dotenv\" to use them.\n",
      "Usage: flask run [OPTIONS]\n",
      "Try 'flask run --help' for help.\n",
      "\n",
      "Error: While importing 'app', an ImportError was raised:\n",
      "\n",
      "Traceback (most recent call last):\n",
      "  File \"c:\\users\\harshit\\appdata\\local\\programs\\python\\python36-32\\lib\\site-packages\\flask\\cli.py\", line 256, in locate_app\n",
      "    __import__(module_name)\n",
      "  File \"D:\\military-object-master\\app.py\", line 5, in <module>\n",
      "    from flask_mysqldb import MySQL, MySQLdb\n",
      "ModuleNotFoundError: No module named 'flask_mysqldb'\n",
      "\n"
     ]
    }
   ],
   "source": [
    "!flask run"
   ]
  },
  {
   "cell_type": "code",
   "execution_count": null,
   "id": "1760d8dc",
   "metadata": {},
   "outputs": [],
   "source": [
    "!pip install flask_mysqldb"
   ]
  },
  {
   "cell_type": "code",
   "execution_count": null,
   "id": "8e38a2c0",
   "metadata": {},
   "outputs": [],
   "source": []
  }
 ],
 "metadata": {
  "kernelspec": {
   "display_name": "Python 3",
   "language": "python",
   "name": "python3"
  },
  "language_info": {
   "codemirror_mode": {
    "name": "ipython",
    "version": 3
   },
   "file_extension": ".py",
   "mimetype": "text/x-python",
   "name": "python",
   "nbconvert_exporter": "python",
   "pygments_lexer": "ipython3",
   "version": "3.6.3"
  }
 },
 "nbformat": 4,
 "nbformat_minor": 5
}
